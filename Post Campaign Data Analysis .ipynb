{
 "cells": [
  {
   "cell_type": "markdown",
   "id": "6e45d5d0",
   "metadata": {},
   "source": [
    "# Campaign Performance Analysis"
   ]
  },
  {
   "cell_type": "markdown",
   "id": "bfd415c6",
   "metadata": {},
   "source": [
    "1. [Introduction](#Introduction)\n",
    "2. [Exploratory Data Analysis](#ExploratoryDataAnalysis)\n",
    "    - 2.1 [Relationship_between campaign id and lead_status_for_campaign](#)\n",
    "    - 2.2 [Relationship_between city and lead_status_for_campaign](#)\n",
    "    - 2.3 [Multivariate Analysis](#)\n",
    "     \n",
    "    \n",
    "3. [Conclusion](#Conclusion)\n"
   ]
  },
  {
   "cell_type": "markdown",
   "id": "bd1a68e7",
   "metadata": {},
   "source": [
    "# Introduction\n",
    "\n",
    "\n",
    "This analysis presents a post-campaign review of a recent cold email initiative. The primary objective is to identify patterns in campaign performance across different cities & campaigns ids and provide recommendations for optimizing future campaign efforts. The variables used in this analysis are email addresses, the campaign it was part of, the city it was sent to, and the lead’s final status."
   ]
  },
  {
   "cell_type": "markdown",
   "id": "6b1c2fc9",
   "metadata": {},
   "source": [
    "### Importing"
   ]
  },
  {
   "cell_type": "code",
   "execution_count": 1,
   "id": "257ffced",
   "metadata": {},
   "outputs": [],
   "source": [
    "import warnings\n",
    "warnings.simplefilter(action='ignore', category=FutureWarning)\n",
    "from pathlib import Path\n",
    "\n",
    "import numpy as np\n",
    "import pandas as pd\n",
    "import matplotlib.pyplot as plt\n",
    "import seaborn as sns"
   ]
  },
  {
   "cell_type": "code",
   "execution_count": 2,
   "id": "1bd888e9",
   "metadata": {},
   "outputs": [
    {
     "data": {
      "text/html": [
       "<div>\n",
       "<style scoped>\n",
       "    .dataframe tbody tr th:only-of-type {\n",
       "        vertical-align: middle;\n",
       "    }\n",
       "\n",
       "    .dataframe tbody tr th {\n",
       "        vertical-align: top;\n",
       "    }\n",
       "\n",
       "    .dataframe thead th {\n",
       "        text-align: right;\n",
       "    }\n",
       "</style>\n",
       "<table border=\"1\" class=\"dataframe\">\n",
       "  <thead>\n",
       "    <tr style=\"text-align: right;\">\n",
       "      <th></th>\n",
       "      <th>email</th>\n",
       "      <th>lead_status_for_campaign</th>\n",
       "      <th>campaign_id</th>\n",
       "      <th>campaign_city</th>\n",
       "    </tr>\n",
       "  </thead>\n",
       "  <tbody>\n",
       "    <tr>\n",
       "      <th>0</th>\n",
       "      <td>user0@example.com</td>\n",
       "      <td>email_sent</td>\n",
       "      <td>camp_1</td>\n",
       "      <td>Denver</td>\n",
       "    </tr>\n",
       "    <tr>\n",
       "      <th>1</th>\n",
       "      <td>user1@example.com</td>\n",
       "      <td>email_sent</td>\n",
       "      <td>camp_2</td>\n",
       "      <td>Phoenix</td>\n",
       "    </tr>\n",
       "    <tr>\n",
       "      <th>2</th>\n",
       "      <td>user2@example.com</td>\n",
       "      <td>email_opened</td>\n",
       "      <td>camp_1</td>\n",
       "      <td>Denver</td>\n",
       "    </tr>\n",
       "    <tr>\n",
       "      <th>3</th>\n",
       "      <td>user3@example.com</td>\n",
       "      <td>email_opened</td>\n",
       "      <td>camp_1</td>\n",
       "      <td>Denver</td>\n",
       "    </tr>\n",
       "    <tr>\n",
       "      <th>4</th>\n",
       "      <td>user4@example.com</td>\n",
       "      <td>email_bounced</td>\n",
       "      <td>camp_1</td>\n",
       "      <td>Dallas</td>\n",
       "    </tr>\n",
       "  </tbody>\n",
       "</table>\n",
       "</div>"
      ],
      "text/plain": [
       "               email lead_status_for_campaign campaign_id campaign_city\n",
       "0  user0@example.com               email_sent      camp_1        Denver\n",
       "1  user1@example.com               email_sent      camp_2       Phoenix\n",
       "2  user2@example.com             email_opened      camp_1        Denver\n",
       "3  user3@example.com             email_opened      camp_1        Denver\n",
       "4  user4@example.com            email_bounced      camp_1        Dallas"
      ]
     },
     "execution_count": 2,
     "metadata": {},
     "output_type": "execute_result"
    }
   ],
   "source": [
    "sheet_id = \"1pQH8fzVz-zms6poaSp-lqp_eWLWmKjfv48SV3vv22Mo\"\n",
    "sheet_name = \"Sheet1\" \n",
    "url = f\"https://docs.google.com/spreadsheets/d/{sheet_id}/gviz/tq?tqx=out:csv&sheet={sheet_name}\"\n",
    "raw_data = pd.read_csv(url)\n",
    "\n",
    "raw_data.head()"
   ]
  },
  {
   "cell_type": "markdown",
   "id": "56277f13",
   "metadata": {},
   "source": [
    "### Understanding the data "
   ]
  },
  {
   "cell_type": "markdown",
   "id": "03788081",
   "metadata": {},
   "source": [
    "checking for missing data, duplicates and looking at the data structre to get familiarisez with the data."
   ]
  },
  {
   "cell_type": "code",
   "execution_count": 3,
   "id": "ef4a1e68",
   "metadata": {},
   "outputs": [
    {
     "data": {
      "text/plain": [
       "email                       0\n",
       "lead_status_for_campaign    0\n",
       "campaign_id                 0\n",
       "campaign_city               0\n",
       "dtype: int64"
      ]
     },
     "execution_count": 3,
     "metadata": {},
     "output_type": "execute_result"
    }
   ],
   "source": [
    "raw_data.isna().sum()"
   ]
  },
  {
   "cell_type": "code",
   "execution_count": 4,
   "id": "fb1cbe64",
   "metadata": {},
   "outputs": [
    {
     "name": "stdout",
     "output_type": "stream",
     "text": [
      "<class 'pandas.core.frame.DataFrame'>\n",
      "RangeIndex: 210 entries, 0 to 209\n",
      "Data columns (total 4 columns):\n",
      " #   Column                    Non-Null Count  Dtype \n",
      "---  ------                    --------------  ----- \n",
      " 0   email                     210 non-null    object\n",
      " 1   lead_status_for_campaign  210 non-null    object\n",
      " 2   campaign_id               210 non-null    object\n",
      " 3   campaign_city             210 non-null    object\n",
      "dtypes: object(4)\n",
      "memory usage: 6.7+ KB\n"
     ]
    }
   ],
   "source": [
    "raw_data.info()"
   ]
  },
  {
   "cell_type": "code",
   "execution_count": 5,
   "id": "c62118ac",
   "metadata": {},
   "outputs": [
    {
     "data": {
      "text/plain": [
       "0"
      ]
     },
     "execution_count": 5,
     "metadata": {},
     "output_type": "execute_result"
    }
   ],
   "source": [
    "raw_data.duplicated().sum()"
   ]
  },
  {
   "cell_type": "code",
   "execution_count": 6,
   "id": "0ff497e3",
   "metadata": {},
   "outputs": [
    {
     "data": {
      "text/html": [
       "<div>\n",
       "<style scoped>\n",
       "    .dataframe tbody tr th:only-of-type {\n",
       "        vertical-align: middle;\n",
       "    }\n",
       "\n",
       "    .dataframe tbody tr th {\n",
       "        vertical-align: top;\n",
       "    }\n",
       "\n",
       "    .dataframe thead th {\n",
       "        text-align: right;\n",
       "    }\n",
       "</style>\n",
       "<table border=\"1\" class=\"dataframe\">\n",
       "  <thead>\n",
       "    <tr style=\"text-align: right;\">\n",
       "      <th></th>\n",
       "      <th>email</th>\n",
       "      <th>campaign_id</th>\n",
       "      <th>campaign_city</th>\n",
       "      <th>lead_status_for_campaign</th>\n",
       "    </tr>\n",
       "  </thead>\n",
       "  <tbody>\n",
       "    <tr>\n",
       "      <th>0</th>\n",
       "      <td>user0@example.com</td>\n",
       "      <td>camp_1</td>\n",
       "      <td>Denver</td>\n",
       "      <td>email_sent</td>\n",
       "    </tr>\n",
       "    <tr>\n",
       "      <th>1</th>\n",
       "      <td>user1@example.com</td>\n",
       "      <td>camp_2</td>\n",
       "      <td>Phoenix</td>\n",
       "      <td>email_sent</td>\n",
       "    </tr>\n",
       "    <tr>\n",
       "      <th>2</th>\n",
       "      <td>user2@example.com</td>\n",
       "      <td>camp_1</td>\n",
       "      <td>Denver</td>\n",
       "      <td>email_opened</td>\n",
       "    </tr>\n",
       "    <tr>\n",
       "      <th>3</th>\n",
       "      <td>user3@example.com</td>\n",
       "      <td>camp_1</td>\n",
       "      <td>Denver</td>\n",
       "      <td>email_opened</td>\n",
       "    </tr>\n",
       "    <tr>\n",
       "      <th>4</th>\n",
       "      <td>user4@example.com</td>\n",
       "      <td>camp_1</td>\n",
       "      <td>Dallas</td>\n",
       "      <td>email_bounced</td>\n",
       "    </tr>\n",
       "    <tr>\n",
       "      <th>...</th>\n",
       "      <td>...</td>\n",
       "      <td>...</td>\n",
       "      <td>...</td>\n",
       "      <td>...</td>\n",
       "    </tr>\n",
       "    <tr>\n",
       "      <th>205</th>\n",
       "      <td>user205@example.com</td>\n",
       "      <td>camp_2</td>\n",
       "      <td>Phoenix</td>\n",
       "      <td>email_bounced</td>\n",
       "    </tr>\n",
       "    <tr>\n",
       "      <th>206</th>\n",
       "      <td>user206@example.com</td>\n",
       "      <td>camp_3</td>\n",
       "      <td>Phoenix</td>\n",
       "      <td>email_unsubscribed</td>\n",
       "    </tr>\n",
       "    <tr>\n",
       "      <th>207</th>\n",
       "      <td>user207@example.com</td>\n",
       "      <td>camp_5</td>\n",
       "      <td>Phoenix</td>\n",
       "      <td>email_sent</td>\n",
       "    </tr>\n",
       "    <tr>\n",
       "      <th>208</th>\n",
       "      <td>user208@example.com</td>\n",
       "      <td>camp_2</td>\n",
       "      <td>Dallas</td>\n",
       "      <td>email_bounced</td>\n",
       "    </tr>\n",
       "    <tr>\n",
       "      <th>209</th>\n",
       "      <td>user209@example.com</td>\n",
       "      <td>camp_2</td>\n",
       "      <td>Phoenix</td>\n",
       "      <td>email_opened</td>\n",
       "    </tr>\n",
       "  </tbody>\n",
       "</table>\n",
       "<p>210 rows × 4 columns</p>\n",
       "</div>"
      ],
      "text/plain": [
       "                   email campaign_id campaign_city lead_status_for_campaign\n",
       "0      user0@example.com      camp_1        Denver               email_sent\n",
       "1      user1@example.com      camp_2       Phoenix               email_sent\n",
       "2      user2@example.com      camp_1        Denver             email_opened\n",
       "3      user3@example.com      camp_1        Denver             email_opened\n",
       "4      user4@example.com      camp_1        Dallas            email_bounced\n",
       "..                   ...         ...           ...                      ...\n",
       "205  user205@example.com      camp_2       Phoenix            email_bounced\n",
       "206  user206@example.com      camp_3       Phoenix       email_unsubscribed\n",
       "207  user207@example.com      camp_5       Phoenix               email_sent\n",
       "208  user208@example.com      camp_2        Dallas            email_bounced\n",
       "209  user209@example.com      camp_2       Phoenix             email_opened\n",
       "\n",
       "[210 rows x 4 columns]"
      ]
     },
     "execution_count": 6,
     "metadata": {},
     "output_type": "execute_result"
    }
   ],
   "source": [
    "df = raw_data[[col for i, col in enumerate(raw_data.columns) if i != 1] + [raw_data.columns[1]]]\n",
    "df"
   ]
  },
  {
   "cell_type": "code",
   "execution_count": 7,
   "id": "3fe714af",
   "metadata": {},
   "outputs": [
    {
     "data": {
      "text/html": [
       "<div>\n",
       "<style scoped>\n",
       "    .dataframe tbody tr th:only-of-type {\n",
       "        vertical-align: middle;\n",
       "    }\n",
       "\n",
       "    .dataframe tbody tr th {\n",
       "        vertical-align: top;\n",
       "    }\n",
       "\n",
       "    .dataframe thead th {\n",
       "        text-align: right;\n",
       "    }\n",
       "</style>\n",
       "<table border=\"1\" class=\"dataframe\">\n",
       "  <thead>\n",
       "    <tr style=\"text-align: right;\">\n",
       "      <th></th>\n",
       "      <th>email</th>\n",
       "      <th>campaign_id</th>\n",
       "      <th>campaign_city</th>\n",
       "      <th>lead_status_for_campaign</th>\n",
       "    </tr>\n",
       "  </thead>\n",
       "  <tbody>\n",
       "    <tr>\n",
       "      <th>count</th>\n",
       "      <td>210</td>\n",
       "      <td>210</td>\n",
       "      <td>210</td>\n",
       "      <td>210</td>\n",
       "    </tr>\n",
       "    <tr>\n",
       "      <th>unique</th>\n",
       "      <td>210</td>\n",
       "      <td>5</td>\n",
       "      <td>3</td>\n",
       "      <td>5</td>\n",
       "    </tr>\n",
       "    <tr>\n",
       "      <th>top</th>\n",
       "      <td>user0@example.com</td>\n",
       "      <td>camp_2</td>\n",
       "      <td>Dallas</td>\n",
       "      <td>email_sent</td>\n",
       "    </tr>\n",
       "    <tr>\n",
       "      <th>freq</th>\n",
       "      <td>1</td>\n",
       "      <td>50</td>\n",
       "      <td>73</td>\n",
       "      <td>64</td>\n",
       "    </tr>\n",
       "  </tbody>\n",
       "</table>\n",
       "</div>"
      ],
      "text/plain": [
       "                    email campaign_id campaign_city lead_status_for_campaign\n",
       "count                 210         210           210                      210\n",
       "unique                210           5             3                        5\n",
       "top     user0@example.com      camp_2        Dallas               email_sent\n",
       "freq                    1          50            73                       64"
      ]
     },
     "execution_count": 7,
     "metadata": {},
     "output_type": "execute_result"
    }
   ],
   "source": [
    "df.describe(include='all')"
   ]
  },
  {
   "cell_type": "markdown",
   "id": "4d94a8a7",
   "metadata": {},
   "source": [
    "Our data appears to be clean and organized, so we can proceed with exploratory data analysis."
   ]
  },
  {
   "cell_type": "markdown",
   "id": "0cab6d2f",
   "metadata": {},
   "source": [
    "# Exploratory Data Analysis  <a id=\"ExploratoryDataAnalysis\"></a>"
   ]
  },
  {
   "cell_type": "code",
   "execution_count": 8,
   "id": "0e3587de",
   "metadata": {},
   "outputs": [
    {
     "data": {
      "text/plain": [
       "campaign_id\n",
       "camp_2    50\n",
       "camp_5    46\n",
       "camp_3    40\n",
       "camp_1    38\n",
       "camp_4    36\n",
       "Name: count, dtype: int64"
      ]
     },
     "execution_count": 8,
     "metadata": {},
     "output_type": "execute_result"
    }
   ],
   "source": [
    "df['campaign_id'].value_counts()"
   ]
  },
  {
   "cell_type": "code",
   "execution_count": 9,
   "id": "8d8f4e7d",
   "metadata": {},
   "outputs": [
    {
     "data": {
      "image/png": "[encoded data removed]",
      "text/plain": [
       "<Figure size 640x480 with 1 Axes>"
      ]
     },
     "metadata": {},
     "output_type": "display_data"
    }
   ],
   "source": [
    "df['campaign_id'].value_counts().plot(kind='bar')\n",
    "plt.xlabel('campaign_id')\n",
    "plt.xticks(rotation=45)\n",
    "plt.ylabel('Frequency')\n",
    "plt.title('Distribution of campaign_id by frequeny')\n",
    "plt.show()"
   ]
  },
  {
   "cell_type": "code",
   "execution_count": 10,
   "id": "80e8425f",
   "metadata": {},
   "outputs": [
    {
     "data": {
      "text/plain": [
       "campaign_city\n",
       "Dallas     73\n",
       "Phoenix    69\n",
       "Denver     68\n",
       "Name: count, dtype: int64"
      ]
     },
     "execution_count": 10,
     "metadata": {},
     "output_type": "execute_result"
    }
   ],
   "source": [
    "df['campaign_city'].value_counts()"
   ]
  },
  {
   "cell_type": "code",
   "execution_count": 11,
   "id": "f17aeda8",
   "metadata": {},
   "outputs": [
    {
     "data": {
      "image/png": "[encoded data removed]",
      "text/plain": [
       "<Figure size 640x480 with 1 Axes>"
      ]
     },
     "metadata": {},
     "output_type": "display_data"
    }
   ],
   "source": [
    "df['campaign_city'].value_counts().plot(kind='bar')\n",
    "plt.xlabel('campaign_city')\n",
    "plt.xticks(rotation=45)\n",
    "plt.ylabel('Frequency')\n",
    "plt.title('Distribution of campaign_city by frequeny')\n",
    "plt.show()"
   ]
  },
  {
   "cell_type": "code",
   "execution_count": 12,
   "id": "e6f37a3f",
   "metadata": {},
   "outputs": [
    {
     "data": {
      "text/plain": [
       "lead_status_for_campaign\n",
       "email_sent            64\n",
       "email_opened          63\n",
       "email_bounced         41\n",
       "email_replied         34\n",
       "email_unsubscribed     8\n",
       "Name: count, dtype: int64"
      ]
     },
     "execution_count": 12,
     "metadata": {},
     "output_type": "execute_result"
    }
   ],
   "source": [
    "class_counts = df['lead_status_for_campaign'].value_counts()\n",
    "class_counts"
   ]
  },
  {
   "cell_type": "code",
   "execution_count": 13,
   "id": "c120892b",
   "metadata": {},
   "outputs": [
    {
     "data": {
      "text/plain": [
       "lead_status_for_campaign\n",
       "email_sent            30.48\n",
       "email_opened          30.00\n",
       "email_bounced         19.52\n",
       "email_replied         16.19\n",
       "email_unsubscribed     3.81\n",
       "Name: count, dtype: float64"
      ]
     },
     "execution_count": 13,
     "metadata": {},
     "output_type": "execute_result"
    }
   ],
   "source": [
    "class_percentages =((class_counts / df.shape[0]) * 100).round(2)\n",
    "class_percentages"
   ]
  },
  {
   "cell_type": "code",
   "execution_count": 14,
   "id": "3144ed42",
   "metadata": {
    "scrolled": true
   },
   "outputs": [
    {
     "data": {
      "image/png": "[encoded data removed]",
      "text/plain": [
       "<Figure size 640x480 with 1 Axes>"
      ]
     },
     "metadata": {},
     "output_type": "display_data"
    }
   ],
   "source": [
    "class_percentages.plot(kind='pie', autopct='%1.1f%%', startangle=140, colors=plt.cm.Paired.colors)\n",
    "\n",
    "plt.title('Lead Status Distribution')\n",
    "plt.ylabel('')\n",
    "plt.tight_layout()\n",
    "plt.savefig(\"lead_status_distribution.png\", dpi=300, bbox_inches='tight')\n",
    "plt.show()"
   ]
  },
  {
   "cell_type": "markdown",
   "id": "bd76974a",
   "metadata": {},
   "source": [
    "What we can understand from these status percentages is:\n",
    "* **Email Sent (Unopened)**\t30.48%\tNearly a third of recipients didn't open our email — this is our largest group which could mean subject lines or sender name might need improvement.\n",
    "* **Email Opened**\t30.00%\tThis is promising. 30% open rate is decent.\n",
    "* **Email Bounced**\t19.52%\tThis is very high — almost 1 in 5 emails didn’t even reach the inbox. We may need to clean your email list (check for invalid/old addresses).\n",
    "* **Email Replied**\t16.19%\tThis is a great engagement rate. It means our content resonated well with a portion of our leads.\n",
    "* **Email Unsubscribed**\t3.81%\tThis is acceptable especially sinceit is for cold emails. , but if it creeps above ~5%, it might signal content overload, poor targeting, or irrelevant emails."
   ]
  },
  {
   "cell_type": "markdown",
   "id": "a6cc4f57",
   "metadata": {},
   "source": [
    "### Relationship between campaign_id and lead_status_for_campaign  <a id=\"2.1Relationship_between campaign_id&lead_status_for_campaign\"></a>"
   ]
  },
  {
   "cell_type": "code",
   "execution_count": 15,
   "id": "3b921668",
   "metadata": {},
   "outputs": [],
   "source": [
    "def grouping(x):\n",
    "    return df.groupby('lead_status_for_campaign')[x].value_counts().unstack()\n",
    "\n",
    "def catplot(m, n=45):\n",
    "    sns.catplot( x = m, data = df, kind = 'count', hue = 'lead_status_for_campaign')\n",
    "    plt.xticks(rotation = n)\n",
    "    return plt.show()"
   ]
  },
  {
   "cell_type": "code",
   "execution_count": 16,
   "id": "9807e51b",
   "metadata": {},
   "outputs": [
    {
     "data": {
      "text/html": [
       "<div>\n",
       "<style scoped>\n",
       "    .dataframe tbody tr th:only-of-type {\n",
       "        vertical-align: middle;\n",
       "    }\n",
       "\n",
       "    .dataframe tbody tr th {\n",
       "        vertical-align: top;\n",
       "    }\n",
       "\n",
       "    .dataframe thead th {\n",
       "        text-align: right;\n",
       "    }\n",
       "</style>\n",
       "<table border=\"1\" class=\"dataframe\">\n",
       "  <thead>\n",
       "    <tr style=\"text-align: right;\">\n",
       "      <th></th>\n",
       "      <th>count</th>\n",
       "      <th>unique</th>\n",
       "      <th>top</th>\n",
       "      <th>freq</th>\n",
       "    </tr>\n",
       "    <tr>\n",
       "      <th>lead_status_for_campaign</th>\n",
       "      <th></th>\n",
       "      <th></th>\n",
       "      <th></th>\n",
       "      <th></th>\n",
       "    </tr>\n",
       "  </thead>\n",
       "  <tbody>\n",
       "    <tr>\n",
       "      <th>email_bounced</th>\n",
       "      <td>41</td>\n",
       "      <td>5</td>\n",
       "      <td>camp_2</td>\n",
       "      <td>13</td>\n",
       "    </tr>\n",
       "    <tr>\n",
       "      <th>email_opened</th>\n",
       "      <td>63</td>\n",
       "      <td>5</td>\n",
       "      <td>camp_2</td>\n",
       "      <td>17</td>\n",
       "    </tr>\n",
       "    <tr>\n",
       "      <th>email_replied</th>\n",
       "      <td>34</td>\n",
       "      <td>5</td>\n",
       "      <td>camp_1</td>\n",
       "      <td>10</td>\n",
       "    </tr>\n",
       "    <tr>\n",
       "      <th>email_sent</th>\n",
       "      <td>64</td>\n",
       "      <td>5</td>\n",
       "      <td>camp_5</td>\n",
       "      <td>18</td>\n",
       "    </tr>\n",
       "    <tr>\n",
       "      <th>email_unsubscribed</th>\n",
       "      <td>8</td>\n",
       "      <td>5</td>\n",
       "      <td>camp_3</td>\n",
       "      <td>3</td>\n",
       "    </tr>\n",
       "  </tbody>\n",
       "</table>\n",
       "</div>"
      ],
      "text/plain": [
       "                         count unique     top freq\n",
       "lead_status_for_campaign                          \n",
       "email_bounced               41      5  camp_2   13\n",
       "email_opened                63      5  camp_2   17\n",
       "email_replied               34      5  camp_1   10\n",
       "email_sent                  64      5  camp_5   18\n",
       "email_unsubscribed           8      5  camp_3    3"
      ]
     },
     "execution_count": 16,
     "metadata": {},
     "output_type": "execute_result"
    }
   ],
   "source": [
    "\n",
    "df.groupby('lead_status_for_campaign')['campaign_id'].describe()"
   ]
  },
  {
   "cell_type": "code",
   "execution_count": 17,
   "id": "fcd3b213",
   "metadata": {},
   "outputs": [
    {
     "data": {
      "text/html": [
       "<div>\n",
       "<style scoped>\n",
       "    .dataframe tbody tr th:only-of-type {\n",
       "        vertical-align: middle;\n",
       "    }\n",
       "\n",
       "    .dataframe tbody tr th {\n",
       "        vertical-align: top;\n",
       "    }\n",
       "\n",
       "    .dataframe thead th {\n",
       "        text-align: right;\n",
       "    }\n",
       "</style>\n",
       "<table border=\"1\" class=\"dataframe\">\n",
       "  <thead>\n",
       "    <tr style=\"text-align: right;\">\n",
       "      <th>campaign_id</th>\n",
       "      <th>camp_1</th>\n",
       "      <th>camp_2</th>\n",
       "      <th>camp_3</th>\n",
       "      <th>camp_4</th>\n",
       "      <th>camp_5</th>\n",
       "    </tr>\n",
       "    <tr>\n",
       "      <th>lead_status_for_campaign</th>\n",
       "      <th></th>\n",
       "      <th></th>\n",
       "      <th></th>\n",
       "      <th></th>\n",
       "      <th></th>\n",
       "    </tr>\n",
       "  </thead>\n",
       "  <tbody>\n",
       "    <tr>\n",
       "      <th>email_bounced</th>\n",
       "      <td>6</td>\n",
       "      <td>13</td>\n",
       "      <td>8</td>\n",
       "      <td>8</td>\n",
       "      <td>6</td>\n",
       "    </tr>\n",
       "    <tr>\n",
       "      <th>email_opened</th>\n",
       "      <td>8</td>\n",
       "      <td>17</td>\n",
       "      <td>12</td>\n",
       "      <td>12</td>\n",
       "      <td>14</td>\n",
       "    </tr>\n",
       "    <tr>\n",
       "      <th>email_replied</th>\n",
       "      <td>10</td>\n",
       "      <td>5</td>\n",
       "      <td>6</td>\n",
       "      <td>6</td>\n",
       "      <td>7</td>\n",
       "    </tr>\n",
       "    <tr>\n",
       "      <th>email_sent</th>\n",
       "      <td>13</td>\n",
       "      <td>13</td>\n",
       "      <td>11</td>\n",
       "      <td>9</td>\n",
       "      <td>18</td>\n",
       "    </tr>\n",
       "    <tr>\n",
       "      <th>email_unsubscribed</th>\n",
       "      <td>1</td>\n",
       "      <td>2</td>\n",
       "      <td>3</td>\n",
       "      <td>1</td>\n",
       "      <td>1</td>\n",
       "    </tr>\n",
       "  </tbody>\n",
       "</table>\n",
       "</div>"
      ],
      "text/plain": [
       "campaign_id               camp_1  camp_2  camp_3  camp_4  camp_5\n",
       "lead_status_for_campaign                                        \n",
       "email_bounced                  6      13       8       8       6\n",
       "email_opened                   8      17      12      12      14\n",
       "email_replied                 10       5       6       6       7\n",
       "email_sent                    13      13      11       9      18\n",
       "email_unsubscribed             1       2       3       1       1"
      ]
     },
     "execution_count": 17,
     "metadata": {},
     "output_type": "execute_result"
    }
   ],
   "source": [
    "grouping('campaign_id')"
   ]
  },
  {
   "cell_type": "code",
   "execution_count": 18,
   "id": "327413ee",
   "metadata": {},
   "outputs": [
    {
     "data": {
      "image/png": "[encoded data removed]",
      "text/plain": [
       "<Figure size 692.611x500 with 1 Axes>"
      ]
     },
     "metadata": {},
     "output_type": "display_data"
    }
   ],
   "source": [
    "catplot('campaign_id')"
   ]
  },
  {
   "cell_type": "markdown",
   "id": "f8e33304",
   "metadata": {},
   "source": [
    "* Campaign 2 had the highest number of emails opened (17), which indicates effective subject lines or timing. However, it also had a high number of bounces (13), which could indicate list quality issues. In contrast, Campaign 1 achieved the highest number of email replies (10), making it the most engaging in terms of lead response.\n",
    "\n",
    "* Campaign 5 had the highest volume of emails sent (18), with strong open (14) and reply (7) counts, indicating solid overall performance. Campaign 3 and Campaign 4 showed relatively balanced metrics but with lower engagement compared to Campaign 1 and 5.\n",
    "\n",
    "* The number of unsubscribes was low across all campaigns, which is a positive sign for content relevance and frequency."
   ]
  },
  {
   "cell_type": "markdown",
   "id": "46fc175c",
   "metadata": {},
   "source": [
    "### Relationship between campaign_id and lead_status_for_campaign"
   ]
  },
  {
   "cell_type": "code",
   "execution_count": 19,
   "id": "e14aa70c",
   "metadata": {},
   "outputs": [
    {
     "data": {
      "text/html": [
       "<div>\n",
       "<style scoped>\n",
       "    .dataframe tbody tr th:only-of-type {\n",
       "        vertical-align: middle;\n",
       "    }\n",
       "\n",
       "    .dataframe tbody tr th {\n",
       "        vertical-align: top;\n",
       "    }\n",
       "\n",
       "    .dataframe thead th {\n",
       "        text-align: right;\n",
       "    }\n",
       "</style>\n",
       "<table border=\"1\" class=\"dataframe\">\n",
       "  <thead>\n",
       "    <tr style=\"text-align: right;\">\n",
       "      <th></th>\n",
       "      <th>count</th>\n",
       "      <th>unique</th>\n",
       "      <th>top</th>\n",
       "      <th>freq</th>\n",
       "    </tr>\n",
       "    <tr>\n",
       "      <th>lead_status_for_campaign</th>\n",
       "      <th></th>\n",
       "      <th></th>\n",
       "      <th></th>\n",
       "      <th></th>\n",
       "    </tr>\n",
       "  </thead>\n",
       "  <tbody>\n",
       "    <tr>\n",
       "      <th>email_bounced</th>\n",
       "      <td>41</td>\n",
       "      <td>3</td>\n",
       "      <td>Dallas</td>\n",
       "      <td>37</td>\n",
       "    </tr>\n",
       "    <tr>\n",
       "      <th>email_opened</th>\n",
       "      <td>63</td>\n",
       "      <td>3</td>\n",
       "      <td>Denver</td>\n",
       "      <td>26</td>\n",
       "    </tr>\n",
       "    <tr>\n",
       "      <th>email_replied</th>\n",
       "      <td>34</td>\n",
       "      <td>3</td>\n",
       "      <td>Phoenix</td>\n",
       "      <td>13</td>\n",
       "    </tr>\n",
       "    <tr>\n",
       "      <th>email_sent</th>\n",
       "      <td>64</td>\n",
       "      <td>3</td>\n",
       "      <td>Denver</td>\n",
       "      <td>28</td>\n",
       "    </tr>\n",
       "    <tr>\n",
       "      <th>email_unsubscribed</th>\n",
       "      <td>8</td>\n",
       "      <td>2</td>\n",
       "      <td>Phoenix</td>\n",
       "      <td>7</td>\n",
       "    </tr>\n",
       "  </tbody>\n",
       "</table>\n",
       "</div>"
      ],
      "text/plain": [
       "                         count unique      top freq\n",
       "lead_status_for_campaign                           \n",
       "email_bounced               41      3   Dallas   37\n",
       "email_opened                63      3   Denver   26\n",
       "email_replied               34      3  Phoenix   13\n",
       "email_sent                  64      3   Denver   28\n",
       "email_unsubscribed           8      2  Phoenix    7"
      ]
     },
     "execution_count": 19,
     "metadata": {},
     "output_type": "execute_result"
    }
   ],
   "source": [
    "df.groupby('lead_status_for_campaign')['campaign_city'].describe()"
   ]
  },
  {
   "cell_type": "code",
   "execution_count": 20,
   "id": "4a1a6ca6",
   "metadata": {},
   "outputs": [
    {
     "data": {
      "text/html": [
       "<div>\n",
       "<style scoped>\n",
       "    .dataframe tbody tr th:only-of-type {\n",
       "        vertical-align: middle;\n",
       "    }\n",
       "\n",
       "    .dataframe tbody tr th {\n",
       "        vertical-align: top;\n",
       "    }\n",
       "\n",
       "    .dataframe thead th {\n",
       "        text-align: right;\n",
       "    }\n",
       "</style>\n",
       "<table border=\"1\" class=\"dataframe\">\n",
       "  <thead>\n",
       "    <tr style=\"text-align: right;\">\n",
       "      <th>campaign_city</th>\n",
       "      <th>Dallas</th>\n",
       "      <th>Denver</th>\n",
       "      <th>Phoenix</th>\n",
       "    </tr>\n",
       "    <tr>\n",
       "      <th>lead_status_for_campaign</th>\n",
       "      <th></th>\n",
       "      <th></th>\n",
       "      <th></th>\n",
       "    </tr>\n",
       "  </thead>\n",
       "  <tbody>\n",
       "    <tr>\n",
       "      <th>email_bounced</th>\n",
       "      <td>37.0</td>\n",
       "      <td>2.0</td>\n",
       "      <td>2.0</td>\n",
       "    </tr>\n",
       "    <tr>\n",
       "      <th>email_opened</th>\n",
       "      <td>15.0</td>\n",
       "      <td>26.0</td>\n",
       "      <td>22.0</td>\n",
       "    </tr>\n",
       "    <tr>\n",
       "      <th>email_replied</th>\n",
       "      <td>9.0</td>\n",
       "      <td>12.0</td>\n",
       "      <td>13.0</td>\n",
       "    </tr>\n",
       "    <tr>\n",
       "      <th>email_sent</th>\n",
       "      <td>11.0</td>\n",
       "      <td>28.0</td>\n",
       "      <td>25.0</td>\n",
       "    </tr>\n",
       "    <tr>\n",
       "      <th>email_unsubscribed</th>\n",
       "      <td>1.0</td>\n",
       "      <td>NaN</td>\n",
       "      <td>7.0</td>\n",
       "    </tr>\n",
       "  </tbody>\n",
       "</table>\n",
       "</div>"
      ],
      "text/plain": [
       "campaign_city             Dallas  Denver  Phoenix\n",
       "lead_status_for_campaign                         \n",
       "email_bounced               37.0     2.0      2.0\n",
       "email_opened                15.0    26.0     22.0\n",
       "email_replied                9.0    12.0     13.0\n",
       "email_sent                  11.0    28.0     25.0\n",
       "email_unsubscribed           1.0     NaN      7.0"
      ]
     },
     "execution_count": 20,
     "metadata": {},
     "output_type": "execute_result"
    }
   ],
   "source": [
    "grouping('campaign_city')"
   ]
  },
  {
   "cell_type": "code",
   "execution_count": 21,
   "id": "bd85a8ca",
   "metadata": {},
   "outputs": [
    {
     "data": {
      "image/png": "[encoded data removed]",
      "text/plain": [
       "<Figure size 692.611x500 with 1 Axes>"
      ]
     },
     "metadata": {},
     "output_type": "display_data"
    }
   ],
   "source": [
    "catplot('campaign_city')"
   ]
  },
  {
   "cell_type": "code",
   "execution_count": 22,
   "id": "1650199b",
   "metadata": {},
   "outputs": [
    {
     "data": {
      "image/png": "[encoded data removed]",
      "text/plain": [
       "<Figure size 1000x600 with 1 Axes>"
      ]
     },
     "metadata": {},
     "output_type": "display_data"
    }
   ],
   "source": [
    "city_leads = df.groupby(['campaign_city', 'lead_status_for_campaign']).size().unstack().fillna(0)\n",
    "city_leads_percent = city_leads.div(city_leads.sum(axis=1), axis=0) * 100\n",
    "\n",
    "ax = city_leads_percent.plot(\n",
    "    kind='barh',\n",
    "    stacked=True,\n",
    "    figsize=(10, 6),\n",
    "    colormap='viridis'\n",
    ")\n",
    "\n",
    "plt.title('Lead Status % by City')\n",
    "plt.xlabel('% of Leads')\n",
    "plt.legend(title='Lead Status', bbox_to_anchor=(1.05, 1), loc='upper left')\n",
    "\n",
    "plt.tight_layout()\n",
    "plt.savefig(\"lead_status_by_city.png\", dpi=300, bbox_inches='tight')\n",
    "plt.show()"
   ]
  },
  {
   "cell_type": "markdown",
   "id": "aee56808",
   "metadata": {},
   "source": [
    " * There is a significant variation in campaign performance across cities. Notably, Dallas had a disproportionately high number of email bounces (37), indicating potential issues with email validity or list quality in that region. In contrast, Denver and Phoenix showed stronger engagement, with higher counts of email opens and replies compared to Dallas.\n",
    "* Phoenix recorded the highest number of unsubscribes (7), which means that there could be content misalignment or frequency fatigue among leads in that city. \n",
    "* Overall, Denver had the most emails sent but unopened, which could mean there is a possible opportunity to improve subject lines or sending times."
   ]
  },
  {
   "cell_type": "markdown",
   "id": "9347e452",
   "metadata": {},
   "source": [
    "### Multivariate Analysis"
   ]
  },
  {
   "cell_type": "code",
   "execution_count": 23,
   "id": "ec7fc713",
   "metadata": {},
   "outputs": [
    {
     "data": {
      "text/html": [
       "<div>\n",
       "<style scoped>\n",
       "    .dataframe tbody tr th:only-of-type {\n",
       "        vertical-align: middle;\n",
       "    }\n",
       "\n",
       "    .dataframe tbody tr th {\n",
       "        vertical-align: top;\n",
       "    }\n",
       "\n",
       "    .dataframe thead th {\n",
       "        text-align: right;\n",
       "    }\n",
       "</style>\n",
       "<table border=\"1\" class=\"dataframe\">\n",
       "  <thead>\n",
       "    <tr style=\"text-align: right;\">\n",
       "      <th></th>\n",
       "      <th>lead_status_for_campaign</th>\n",
       "      <th>email_bounced</th>\n",
       "      <th>email_opened</th>\n",
       "      <th>email_replied</th>\n",
       "      <th>email_sent</th>\n",
       "      <th>email_unsubscribed</th>\n",
       "    </tr>\n",
       "    <tr>\n",
       "      <th>campaign_id</th>\n",
       "      <th>campaign_city</th>\n",
       "      <th></th>\n",
       "      <th></th>\n",
       "      <th></th>\n",
       "      <th></th>\n",
       "      <th></th>\n",
       "    </tr>\n",
       "  </thead>\n",
       "  <tbody>\n",
       "    <tr>\n",
       "      <th rowspan=\"3\" valign=\"top\">camp_1</th>\n",
       "      <th>Dallas</th>\n",
       "      <td>6</td>\n",
       "      <td>1</td>\n",
       "      <td>2</td>\n",
       "      <td>1</td>\n",
       "      <td>0</td>\n",
       "    </tr>\n",
       "    <tr>\n",
       "      <th>Denver</th>\n",
       "      <td>0</td>\n",
       "      <td>6</td>\n",
       "      <td>4</td>\n",
       "      <td>7</td>\n",
       "      <td>0</td>\n",
       "    </tr>\n",
       "    <tr>\n",
       "      <th>Phoenix</th>\n",
       "      <td>0</td>\n",
       "      <td>1</td>\n",
       "      <td>4</td>\n",
       "      <td>5</td>\n",
       "      <td>1</td>\n",
       "    </tr>\n",
       "    <tr>\n",
       "      <th rowspan=\"3\" valign=\"top\">camp_2</th>\n",
       "      <th>Dallas</th>\n",
       "      <td>9</td>\n",
       "      <td>5</td>\n",
       "      <td>3</td>\n",
       "      <td>4</td>\n",
       "      <td>0</td>\n",
       "    </tr>\n",
       "    <tr>\n",
       "      <th>Denver</th>\n",
       "      <td>2</td>\n",
       "      <td>4</td>\n",
       "      <td>1</td>\n",
       "      <td>4</td>\n",
       "      <td>0</td>\n",
       "    </tr>\n",
       "    <tr>\n",
       "      <th>Phoenix</th>\n",
       "      <td>2</td>\n",
       "      <td>8</td>\n",
       "      <td>1</td>\n",
       "      <td>5</td>\n",
       "      <td>2</td>\n",
       "    </tr>\n",
       "    <tr>\n",
       "      <th rowspan=\"3\" valign=\"top\">camp_3</th>\n",
       "      <th>Dallas</th>\n",
       "      <td>8</td>\n",
       "      <td>2</td>\n",
       "      <td>0</td>\n",
       "      <td>2</td>\n",
       "      <td>0</td>\n",
       "    </tr>\n",
       "    <tr>\n",
       "      <th>Denver</th>\n",
       "      <td>0</td>\n",
       "      <td>6</td>\n",
       "      <td>4</td>\n",
       "      <td>4</td>\n",
       "      <td>0</td>\n",
       "    </tr>\n",
       "    <tr>\n",
       "      <th>Phoenix</th>\n",
       "      <td>0</td>\n",
       "      <td>4</td>\n",
       "      <td>2</td>\n",
       "      <td>5</td>\n",
       "      <td>3</td>\n",
       "    </tr>\n",
       "    <tr>\n",
       "      <th rowspan=\"3\" valign=\"top\">camp_4</th>\n",
       "      <th>Dallas</th>\n",
       "      <td>8</td>\n",
       "      <td>3</td>\n",
       "      <td>2</td>\n",
       "      <td>2</td>\n",
       "      <td>1</td>\n",
       "    </tr>\n",
       "    <tr>\n",
       "      <th>Denver</th>\n",
       "      <td>0</td>\n",
       "      <td>4</td>\n",
       "      <td>2</td>\n",
       "      <td>5</td>\n",
       "      <td>0</td>\n",
       "    </tr>\n",
       "    <tr>\n",
       "      <th>Phoenix</th>\n",
       "      <td>0</td>\n",
       "      <td>5</td>\n",
       "      <td>2</td>\n",
       "      <td>2</td>\n",
       "      <td>0</td>\n",
       "    </tr>\n",
       "    <tr>\n",
       "      <th rowspan=\"3\" valign=\"top\">camp_5</th>\n",
       "      <th>Dallas</th>\n",
       "      <td>6</td>\n",
       "      <td>4</td>\n",
       "      <td>2</td>\n",
       "      <td>2</td>\n",
       "      <td>0</td>\n",
       "    </tr>\n",
       "    <tr>\n",
       "      <th>Denver</th>\n",
       "      <td>0</td>\n",
       "      <td>6</td>\n",
       "      <td>1</td>\n",
       "      <td>8</td>\n",
       "      <td>0</td>\n",
       "    </tr>\n",
       "    <tr>\n",
       "      <th>Phoenix</th>\n",
       "      <td>0</td>\n",
       "      <td>4</td>\n",
       "      <td>4</td>\n",
       "      <td>8</td>\n",
       "      <td>1</td>\n",
       "    </tr>\n",
       "  </tbody>\n",
       "</table>\n",
       "</div>"
      ],
      "text/plain": [
       "lead_status_for_campaign   email_bounced  email_opened  email_replied  \\\n",
       "campaign_id campaign_city                                               \n",
       "camp_1      Dallas                     6             1              2   \n",
       "            Denver                     0             6              4   \n",
       "            Phoenix                    0             1              4   \n",
       "camp_2      Dallas                     9             5              3   \n",
       "            Denver                     2             4              1   \n",
       "            Phoenix                    2             8              1   \n",
       "camp_3      Dallas                     8             2              0   \n",
       "            Denver                     0             6              4   \n",
       "            Phoenix                    0             4              2   \n",
       "camp_4      Dallas                     8             3              2   \n",
       "            Denver                     0             4              2   \n",
       "            Phoenix                    0             5              2   \n",
       "camp_5      Dallas                     6             4              2   \n",
       "            Denver                     0             6              1   \n",
       "            Phoenix                    0             4              4   \n",
       "\n",
       "lead_status_for_campaign   email_sent  email_unsubscribed  \n",
       "campaign_id campaign_city                                  \n",
       "camp_1      Dallas                  1                   0  \n",
       "            Denver                  7                   0  \n",
       "            Phoenix                 5                   1  \n",
       "camp_2      Dallas                  4                   0  \n",
       "            Denver                  4                   0  \n",
       "            Phoenix                 5                   2  \n",
       "camp_3      Dallas                  2                   0  \n",
       "            Denver                  4                   0  \n",
       "            Phoenix                 5                   3  \n",
       "camp_4      Dallas                  2                   1  \n",
       "            Denver                  5                   0  \n",
       "            Phoenix                 2                   0  \n",
       "camp_5      Dallas                  2                   0  \n",
       "            Denver                  8                   0  \n",
       "            Phoenix                 8                   1  "
      ]
     },
     "execution_count": 23,
     "metadata": {},
     "output_type": "execute_result"
    }
   ],
   "source": [
    "summary = df.groupby(['campaign_id', 'campaign_city', 'lead_status_for_campaign']).size().unstack(fill_value=0)\n",
    "summary"
   ]
  },
  {
   "cell_type": "markdown",
   "id": "9e4966e0",
   "metadata": {},
   "source": [
    "# Conclusion"
   ]
  },
  {
   "cell_type": "markdown",
   "id": "c96359d0",
   "metadata": {},
   "source": [
    "Conclusion:\n",
    "Across all campaigns, Dallas consistently showed high bounce rates (ranging from 6 to 9 emails bounced per campaign), with campaigns 2–4 experiencing the worst deliverability. This strongly suggests issues with the email list quality in Dallas and highlights a need to validate or refresh leads from this city.\n",
    "\n",
    "Denver and Phoenix outperformed Dallas in terms of engagement. Denver had consistently high open and reply rates, especially in campaigns 1 and 3, indicating good deliverability and relevance of content. Phoenix also had strong reply rates across multiple campaigns, but it showed a relatively higher number of unsubscribes, especially in campaigns 2 and 3 — which may suggest content fatigue or misalignment with expectations in that city.\n",
    "\n",
    "Campaign 1 stands out for generating the highest replies in Denver and Phoenix, with no bounces, indicating well-targeted messaging and a clean list. In contrast, campaign 2, while showing strong open rates (especially in Phoenix), suffered from poor deliverability in Dallas — indicating that while the subject line and timing were effective, the email list needs improvement."
   ]
  }
 ],
 "metadata": {
  "kernelspec": {
   "display_name": "Python 3 (ipykernel)",
   "language": "python",
   "name": "python3"
  },
  "language_info": {
   "codemirror_mode": {
    "name": "ipython",
    "version": 3
   },
   "file_extension": ".py",
   "mimetype": "text/x-python",
   "name": "python",
   "nbconvert_exporter": "python",
   "pygments_lexer": "ipython3",
   "version": "3.11.5"
  }
 },
 "nbformat": 4,
 "nbformat_minor": 5
}
